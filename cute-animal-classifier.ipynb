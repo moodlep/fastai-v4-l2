{
 "cells": [
  {
   "cell_type": "code",
   "execution_count": 1,
   "metadata": {},
   "outputs": [],
   "source": [
    "from utils import *\n",
    "from fastai2.vision.widgets import *"
   ]
  },
  {
   "cell_type": "code",
   "execution_count": 2,
   "metadata": {},
   "outputs": [],
   "source": [
    "path = Path(\".\")\n",
    "learn_inf = load_learner('./export.pkl')"
   ]
  },
  {
   "cell_type": "code",
   "execution_count": 3,
   "metadata": {
    "colab": {
     "base_uri": "https://localhost:8080/",
     "height": 123,
     "referenced_widgets": [
      "f2606368715845c2b64f34fefff2c88c",
      "459a8254e4c8463b86072f49d1a560e8"
     ]
    },
    "colab_type": "code",
    "executionInfo": {
     "elapsed": 1152,
     "status": "ok",
     "timestamp": 1586007452862,
     "user": {
      "displayName": "Perusha Moodley",
      "photoUrl": "https://lh3.googleusercontent.com/a-/AOh14GjLgk3V32S8Jx56AWXzv2NUq5BNyHzV70hGFQn8=s64",
      "userId": "13089584191208423959"
     },
     "user_tz": -60
    },
    "id": "e3pL6JB94XMl",
    "outputId": "18783471-59c9-4686-e767-84c7615d8a83"
   },
   "outputs": [],
   "source": [
    "out_pl = widgets.Output()"
   ]
  },
  {
   "cell_type": "code",
   "execution_count": 4,
   "metadata": {
    "colab": {
     "base_uri": "https://localhost:8080/",
     "height": 48,
     "referenced_widgets": [
      "148175e05e1548e29548fca98bbb3c01",
      "e02a71cd92c04faa9ff30c0210434792",
      "56fe16b0482046d8b96fb6ceee4f28e7"
     ]
    },
    "colab_type": "code",
    "executionInfo": {
     "elapsed": 1572,
     "status": "ok",
     "timestamp": 1586007475345,
     "user": {
      "displayName": "Perusha Moodley",
      "photoUrl": "https://lh3.googleusercontent.com/a-/AOh14GjLgk3V32S8Jx56AWXzv2NUq5BNyHzV70hGFQn8=s64",
      "userId": "13089584191208423959"
     },
     "user_tz": -60
    },
    "id": "QaALv8EQ4XMq",
    "outputId": "63dbe121-a58a-479e-ca62-079a370c07d8"
   },
   "outputs": [],
   "source": [
    "lbl_pred = widgets.Label()"
   ]
  },
  {
   "cell_type": "code",
   "execution_count": 5,
   "metadata": {
    "colab": {
     "base_uri": "https://localhost:8080/",
     "height": 49,
     "referenced_widgets": [
      "fa6eb4cd9ee5481eba14c02ddb65a53e",
      "90a101cc111049bb8275a6378641d70d",
      "a29a33e9842b4a8b90a56e81b47ce50a"
     ]
    },
    "colab_type": "code",
    "executionInfo": {
     "elapsed": 1556,
     "status": "ok",
     "timestamp": 1586007488939,
     "user": {
      "displayName": "Perusha Moodley",
      "photoUrl": "https://lh3.googleusercontent.com/a-/AOh14GjLgk3V32S8Jx56AWXzv2NUq5BNyHzV70hGFQn8=s64",
      "userId": "13089584191208423959"
     },
     "user_tz": -60
    },
    "id": "0upWU49j4XMs",
    "outputId": "13ff29c5-01a5-4291-ccc6-e24bacde198c"
   },
   "outputs": [],
   "source": [
    "btn_run = widgets.Button(description='Classify')"
   ]
  },
  {
   "cell_type": "code",
   "execution_count": 6,
   "metadata": {
    "colab": {},
    "colab_type": "code",
    "id": "r9fZ_gdP4XMw"
   },
   "outputs": [],
   "source": [
    "btn_upload = widgets.FileUpload()"
   ]
  },
  {
   "cell_type": "code",
   "execution_count": 7,
   "metadata": {
    "colab": {},
    "colab_type": "code",
    "id": "jOhSZiaf4XMu"
   },
   "outputs": [],
   "source": [
    "def on_click_classify(change):\n",
    "    img = PILImage.create(btn_upload.data[-1])\n",
    "    out_pl.clear_output()\n",
    "    with out_pl: display(img.to_thumb(128,128))\n",
    "    pred,pred_idx,probs = learn_inf.predict(img)\n",
    "    lbl_pred.value = f'Prediction: {pred}; Probability: {probs[pred_idx]:.04f}'\n",
    "\n",
    "btn_run.on_click(on_click_classify)"
   ]
  },
  {
   "cell_type": "code",
   "execution_count": null,
   "metadata": {
    "colab": {},
    "colab_type": "code",
    "id": "VUINWGJ44XMz"
   },
   "outputs": [],
   "source": [
    "VBox([widgets.Label('Select your animal!'), \n",
    "      btn_upload, btn_run, out_pl, lbl_pred])"
   ]
  }
 ],
 "metadata": {
  "kernelspec": {
   "display_name": "Python [conda env:frenv] *",
   "language": "python",
   "name": "conda-env-frenv-py"
  },
  "language_info": {
   "codemirror_mode": {
    "name": "ipython",
    "version": 3
   },
   "file_extension": ".py",
   "mimetype": "text/x-python",
   "name": "python",
   "nbconvert_exporter": "python",
   "pygments_lexer": "ipython3",
   "version": "3.6.7"
  }
 },
 "nbformat": 4,
 "nbformat_minor": 2
}
